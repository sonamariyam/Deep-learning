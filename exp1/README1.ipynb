{
  "nbformat": 4,
  "nbformat_minor": 0,
  "metadata": {
    "colab": {
      "provenance": []
    },
    "kernelspec": {
      "name": "python3",
      "display_name": "Python 3"
    },
    "language_info": {
      "name": "python"
    }
  },
  "cells": [
    {
      "cell_type": "markdown",
      "source": [
        "EXPERIMENT 1\n",
        "\n",
        "TensorFlow Basics and Tensor Operations\n",
        "\n",
        "1.Problem Statement\n",
        "The objective of this experiment is to explore the basics of TensorFlow, including the creation and manipulation of tensors. The tasks include creating constants, identifying tensor properties, generating random tensors, and performing basic tensor operations. This foundational knowledge is essential for building and training deep learning models.\n",
        "\n",
        "2.Deep Learning Methods & Description\n",
        "This experiment focuses on fundamental TensorFlow operations, which are the building blocks of deep learning:\n",
        "Tensor Creation\n",
        "Using tf.constant() to create scalar, vector, matrix, and tensor objects.\n",
        "Tensor Properties\n",
        "Finding the shape (dimensions), rank (number of dimensions), and size (total elements) of tensors.\n",
        "Random Tensor Generation\n",
        "Creating tensors with random values within specific ranges and shapes.\n",
        "Tensor Operations\n",
        "Performing basic mathematical operations such as addition, multiplication, and reshaping.\n",
        "\n",
        "3.Methods Applied to Solve the Problem\n",
        "Created a scalar, vector, matrix, and tensor using tf.constant().\n",
        "Computed and displayed the shape, rank, and size for each tensor.\n",
        "Generated two tensors with random values between 0 and 1 of shape [5, 300].\n",
        "Used TensorFlow operations to manipulate and analyze tensors, such as reshaping and performing arithmetic.\n",
        "Verified the results by printing intermediate outputs.\n",
        "\n",
        "4.Results\n",
        "Successfully created and manipulated tensors of various dimensions.\n",
        "Verified the shape, rank, and size of all tensors created in Q1 and Q2.\n",
        "Generated random tensors as specified in Q3, ensuring values were within the correct range.\n",
        "Demonstrated basic arithmetic and reshaping operations in TensorFlow.\n",
        "\n",
        "5.Conclusion\n",
        "This experiment provided hands-on practice with TensorFlow basics, an essential prerequisite for implementing deep learning architectures. Understanding tensors, their properties, and operations ensures a solid foundation for model building, training, and optimization.\n",
        "\n"
      ],
      "metadata": {
        "id": "tNqs1v6uPPXA"
      }
    }
  ]
}