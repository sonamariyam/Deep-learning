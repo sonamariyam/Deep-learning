{
  "nbformat": 4,
  "nbformat_minor": 0,
  "metadata": {
    "colab": {
      "provenance": []
    },
    "kernelspec": {
      "name": "python3",
      "display_name": "Python 3"
    },
    "language_info": {
      "name": "python"
    }
  },
  "cells": [
    {
      "cell_type": "markdown",
      "source": [
        "Experiment 2 – Outlier Detection using Z-score and IQR\n",
        "\n",
        "1.Problem Statement\n",
        "\n",
        "The goal of this experiment is to identify outliers in a dataset using statistical methods. Outliers can significantly affect the performance of data analysis and machine learning models. This experiment applies two common techniques — Z-score and Interquartile Range (IQR) — to detect outliers in a given dataset.\n",
        "\n",
        "2.Deep Learning Methods & Description\n",
        "\n",
        "Although this experiment focuses on statistical methods rather than deep learning, it is an important preprocessing step before applying deep learning models. The methods are:\n",
        "Z-score Method\n",
        "Calculates how many standard deviations a data point is from the mean. If the absolute value of the Z-score is above a certain threshold, the point is considered an outlier.\n",
        "IQR Method\n",
        "Uses the first quartile (Q1) and third quartile (Q3) to measure the spread of the middle 50% of data. Any point lying outside the range [Q1 - 1.5IQR, Q3 + 1.5IQR] is flagged as an outlier.\n",
        "\n",
        "3.Methods Applied to Solve the Problem\n",
        "\n",
        "In this experiment:\n",
        "A dataset of 9 values was analyzed.\n",
        "Z-score method was applied with a threshold of 1 to find points far from the mean.\n",
        "IQR method was applied to find points beyond the whiskers in a boxplot.\n",
        "Both methods identified potential outliers for removal.\n",
        "\n",
        "4.Results\n",
        "\n",
        "Detected Outliers (Z-score method): Values with |Z| > 1 were identified.\n",
        "Detected Outliers (IQR method): Values greater than Q3 + 1.5IQR or less than Q1 - 1.5IQR were flagged.\n",
        "Boxplot Visualization: Clearly shows the distribution and highlights the outliers.\n",
        "\n",
        "5.Conclusion\n",
        "\n",
        "Outlier detection is crucial for improving the quality of datasets before applying machine learning or deep learning algorithms. In this experiment, both Z-score and IQR successfully identified the extreme values. Removing these values can lead to better model accuracy and reliability."
      ],
      "metadata": {
        "id": "l5usOEUaQucz"
      }
    }
  ]
}