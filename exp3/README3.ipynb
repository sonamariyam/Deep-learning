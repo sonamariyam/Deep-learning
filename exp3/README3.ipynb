{
  "nbformat": 4,
  "nbformat_minor": 0,
  "metadata": {
    "colab": {
      "provenance": []
    },
    "kernelspec": {
      "name": "python3",
      "display_name": "Python 3"
    },
    "language_info": {
      "name": "python"
    }
  },
  "cells": [
    {
      "cell_type": "markdown",
      "source": [
        "Experiment 3  CIFAR-10 Classification with Fully Connected Neural Network\n",
        "\n",
        "\n",
        "\n",
        "1.Problem Statement\n",
        "\n",
        "The goal of this project is to classify images from the CIFAR-10 dataset into ten different categories using a fully connected (Dense) neural network architecture. CIFAR-10 is a widely used benchmark dataset in computer vision, consisting of 60,000 32x32 color images in 10 classes, with 6,000 images per class.\n",
        "\n",
        "2.Deep Learning Methods Used\n",
        "Dense (Fully Connected) Neural Network:\n",
        "\n",
        "The model uses a sequential architecture with multiple dense layers to learn representations from image data.\n",
        "\n",
        "Layers Included:\n",
        "Flatten layer to convert image matrices into 1D arrays.\n",
        "Two Dense layers with 128 and 68 neurons respectively, activated by ReLU.\n",
        "Output Dense layer with 10 neurons (one for each class), activated by softmax.\n",
        "\n",
        "3.Method Description\n",
        "Preprocessing:\n",
        "\n",
        "Input images are normalized to the range.\n",
        "Labels are one-hot encoded for multi-class classification.\n",
        "Model Compilation:\n",
        "Optimizer: Adam\n",
        "Loss Function: Categorical Crossentropy\n",
        "Metrics: Accuracy\n",
        "\n",
        "Training:\n",
        "10 epochs\n",
        "Batch size: 32\n",
        "20% of the data is used for validation during training.\n",
        "\n",
        "4.Results\n",
        "Test Accuracy:\n",
        "The final test accuracy (on the unseen test data) is printed after evaluation.\n",
        "\n",
        "Learning Curves:\n",
        "Training and validation loss and accuracy are plotted to visualize performance over epochs.\n",
        "\n",
        "5.Conclusion\n",
        "This project demonstrates how a simple fully connected neural network can be applied to the CIFAR-10 image classification problem. Although convolutional neural networks (CNNs) are more commonly used for image classification, this model achieves reasonable performance and illustrates the workflow from data preparation to evaluation using Keras and TensorFlow."
      ],
      "metadata": {
        "id": "PAYzKPKaSCJh"
      }
    }
  ]
}